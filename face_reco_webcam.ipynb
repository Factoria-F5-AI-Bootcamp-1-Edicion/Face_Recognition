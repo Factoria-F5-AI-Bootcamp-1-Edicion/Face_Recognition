{
 "cells": [
  {
   "cell_type": "code",
   "execution_count": 24,
   "id": "e3aac65f-ed86-4aed-9e5e-03cca39a3ad7",
   "metadata": {},
   "outputs": [],
   "source": [
    "import numpy as np\n",
    "import face_recognition as fr\n",
    "import cv2"
   ]
  },
  {
   "cell_type": "code",
   "execution_count": 25,
   "id": "77a47366-835f-4790-9db5-02c6d6c0c071",
   "metadata": {},
   "outputs": [],
   "source": [
    "video_capture = cv2.VideoCapture(0)"
   ]
  },
  {
   "cell_type": "code",
   "execution_count": 26,
   "id": "c5cd3c52-2235-40cb-85d8-3be9236a66c7",
   "metadata": {},
   "outputs": [],
   "source": [
    "sky_image = fr.load_image_file(\"sky.jpg\")\n",
    "sky_face_encoding = fr.face_encodings(sky_image)[0]\n",
    "\n",
    "pablo_image = fr.load_image_file(\"pablo.jpg\")\n",
    "pablo_face_encoding = fr.face_encodings(pablo_image)[0]\n",
    "\n",
    "anita_image = fr.load_image_file(\"anita.jpg\")\n",
    "anita_face_encoding = fr.face_encodings(anita_image)[0]\n",
    "\n",
    "bego_image = fr.load_image_file(\"bego.jpg\")\n",
    "bego_face_encoding = fr.face_encodings(bego_image)[0]\n",
    "\n",
    "chen_image = fr.load_image_file(\"chen.jpg\")\n",
    "chen_face_encoding = fr.face_encodings(chen_image)[0]\n",
    "\n",
    "davidl_image = fr.load_image_file(\"davidl.jpg\")\n",
    "davidl_face_encoding = fr.face_encodings(davidl_image)[0]\n",
    "\n",
    "felix_image = fr.load_image_file(\"felix.jpg\")\n",
    "felix_face_encoding = fr.face_encodings(felix_image)[0]\n",
    "\n",
    "henry_image = fr.load_image_file(\"henry.jpg\")\n",
    "henry_face_encoding = fr.face_encodings(henry_image)[0]\n",
    "\n",
    "javi_image = fr.load_image_file(\"javi.jpg\")\n",
    "javi_face_encoding = fr.face_encodings(javi_image)[0]\n",
    "\n",
    "jonathan_image = fr.load_image_file(\"jonathan.jpg\")\n",
    "jonathan_face_encoding = fr.face_encodings(jonathan_image)[0]\n",
    "\n",
    "mayra_image = fr.load_image_file(\"mayra.jpg\")\n",
    "mayra_face_encoding = fr.face_encodings(mayra_image)[0]\n",
    "\n",
    "nayare_image = fr.load_image_file(\"nayare.jpg\")\n",
    "nayare_face_encoding = fr.face_encodings(nayare_image)[0]\n",
    "\n",
    "robert_image = fr.load_image_file(\"robert.jpg\")\n",
    "robert_face_encoding = fr.face_encodings(robert_image)[0]\n",
    "\n",
    "sebas_image = fr.load_image_file(\"sebas.jpg\")\n",
    "sebas_face_encoding = fr.face_encodings(sebas_image)[0]\n",
    "\n",
    "vaneza_image = fr.load_image_file(\"vaneza.jpg\")\n",
    "vaneza_face_encoding = fr.face_encodings(vaneza_image)[0]\n",
    "\n",
    "victor_image = fr.load_image_file(\"victor.jpg\")\n",
    "victor_face_encoding = fr.face_encodings(victor_image)[0]\n",
    "\n",
    "wenya_image = fr.load_image_file(\"wenya.jpg\")\n",
    "wenya_face_encoding = fr.face_encodings(wenya_image)[0]"
   ]
  },
  {
   "cell_type": "code",
   "execution_count": 27,
   "id": "b2635f2d-3542-4c05-95ce-fc9df7db7f99",
   "metadata": {},
   "outputs": [],
   "source": [
    "known_face_encondings = [sky_face_encoding, pablo_face_encoding, anita_face_encoding, bego_face_encoding, chen_face_encoding, davidl_face_encoding, felix_face_encoding, henry_face_encoding, javi_face_encoding, jonathan_face_encoding, mayra_face_encoding, nayare_face_encoding, robert_face_encoding, sebas_face_encoding, vaneza_face_encoding, victor_face_encoding, wenya_face_encoding]\n",
    "known_face_names = [\"Sky\", \"Pablo\", \"Anita\", \"Bego\", \"Chen\", \"David L.\", \"Felix\", \"Henry\", \"Javi\", \"Jonathan\", \"Mayra\", \"Nayare\", \"Robert\", \"Sebas\", \"Vaneza\", \"Victor\", \"Wenya\"]"
   ]
  },
  {
   "cell_type": "code",
   "execution_count": 28,
   "id": "716998cb-e28e-439c-bef3-dba20ec0a620",
   "metadata": {},
   "outputs": [],
   "source": [
    "while True: \n",
    "    ret, frame = video_capture.read()\n",
    "\n",
    "    rgb_frame = frame[:, :, ::-1]\n",
    "\n",
    "    face_locations = fr.face_locations(rgb_frame)\n",
    "    face_encodings = fr.face_encodings(rgb_frame, face_locations)\n",
    "\n",
    "    for (top, right, bottom, left), face_encoding in zip(face_locations, face_encodings):\n",
    "\n",
    "        matches = fr.compare_faces(known_face_encondings, face_encoding)\n",
    "\n",
    "        name = \"Unknown\"\n",
    "\n",
    "        face_distances = fr.face_distance(known_face_encondings, face_encoding)\n",
    "\n",
    "        best_match_index = np.argmin(face_distances)\n",
    "        if matches[best_match_index]:\n",
    "            name = known_face_names[best_match_index]\n",
    "        \n",
    "        cv2.rectangle(frame, (left, top), (right, bottom), (0, 0, 255), 2)\n",
    "\n",
    "        cv2.rectangle(frame, (left, bottom -35), (right, bottom), (0, 0, 255), cv2.FILLED)\n",
    "        font = cv2.FONT_HERSHEY_SIMPLEX\n",
    "        cv2.putText(frame, name, (left + 6, bottom - 6), font, 1.0, (255, 255, 255), 1)\n",
    "\n",
    "    cv2.imshow('Webcam_facerecognition', frame)\n",
    "\n",
    "    if cv2.waitKey(1) & 0xFF == ord('q'):\n",
    "        break\n",
    "\n",
    "video_capture.release()\n",
    "cv2.destroyAllWindows()"
   ]
  },
  {
   "cell_type": "code",
   "execution_count": null,
   "id": "b00097ad-e9c6-4c46-9506-5b3898240235",
   "metadata": {},
   "outputs": [],
   "source": []
  },
  {
   "cell_type": "code",
   "execution_count": null,
   "id": "15d417e8-4a85-496c-8205-5bd27d0dc2e7",
   "metadata": {},
   "outputs": [],
   "source": []
  }
 ],
 "metadata": {
  "kernelspec": {
   "display_name": "Python 3 (ipykernel)",
   "language": "python",
   "name": "python3"
  },
  "language_info": {
   "codemirror_mode": {
    "name": "ipython",
    "version": 3
   },
   "file_extension": ".py",
   "mimetype": "text/x-python",
   "name": "python",
   "nbconvert_exporter": "python",
   "pygments_lexer": "ipython3",
   "version": "3.10.5"
  }
 },
 "nbformat": 4,
 "nbformat_minor": 5
}
